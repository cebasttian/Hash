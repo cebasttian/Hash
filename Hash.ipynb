{
  "nbformat": 4,
  "nbformat_minor": 0,
  "metadata": {
    "colab": {
      "name": "Hash.ipynb",
      "provenance": [],
      "collapsed_sections": [],
      "authorship_tag": "ABX9TyMUXmC2c8DaXRRO6tpSaBih",
      "include_colab_link": true
    },
    "kernelspec": {
      "name": "python3",
      "display_name": "Python 3"
    },
    "language_info": {
      "name": "python"
    }
  },
  "cells": [
    {
      "cell_type": "markdown",
      "metadata": {
        "id": "view-in-github",
        "colab_type": "text"
      },
      "source": [
        "<a href=\"https://colab.research.google.com/github/cebasttian/Hash/blob/main/Hash.ipynb\" target=\"_parent\"><img src=\"https://colab.research.google.com/assets/colab-badge.svg\" alt=\"Open In Colab\"/></a>"
      ]
    },
    {
      "cell_type": "markdown",
      "source": [
        "# Codigo"
      ],
      "metadata": {
        "id": "Fd2DcKXoh9tT"
      }
    },
    {
      "cell_type": "code",
      "execution_count": 100,
      "metadata": {
        "colab": {
          "base_uri": "https://localhost:8080/",
          "height": 681
        },
        "id": "Moi4ybORP_qS",
        "outputId": "a606ae33-f69c-4155-85ce-3eb99bf86d7d"
      },
      "outputs": [
        {
          "output_type": "stream",
          "name": "stdout",
          "text": [
            "La entropia es de:  497\n",
            "HS->  0G?o176OkXFCSP2Kx\\yNTT<hq4pN8avOE^TH7<UP=NJ42]6=:Z2610C`1NW<<aZw\n",
            "La entropia es de:  14\n",
            "HS->  b4E??VmI0=3MVi`2H[:eJEFrMU5\\Rr44E;:BX]]El]gKC3qefS_tFV=G3]N3]tkH\n",
            "La entropia es de:  7\n",
            "HS->  J0O=8=1roNvF@q00]fM0@\\9J]V?H8\\4@j7DY<0R9xD\\w:4Nhc86ECDEXslqgX3I_\n",
            "La entropia es de:  28\n",
            "HS->  eWDH:LCj^wQ5<ZhSFJHoS@^`\\_1rXrmWGByAI[SQXg:L:=gmh86OG[TMf>NE7D[;\n",
            "La entropia es de:  28\n",
            "HS->  r^70?MpUSNKfNS>k]Fd0RD^aUfbEYA?_4?C>CYhS;P6p2q>KtnQ;c4pJGOXL61dV\n",
            "La entropia es de:  28\n",
            "HS->  xeUHZSLGewDRSJ[r_Z>40r6NmF`@^F7STCKYYX\\W1L3rhQCv4ADUOfxV^JUMMp?U\n",
            "Tiempo de ejecucion en segundos:  0.01490163803100586\n",
            "\n",
            "Se generó un archivo output.txt con las contraseñas hasheadas\n",
            "Tiempo de ejecucion en segundos:  1.7730131149291992\n",
            "\n",
            "La entropia es de:  31336354\n"
          ]
        },
        {
          "output_type": "error",
          "ename": "KeyboardInterrupt",
          "evalue": "ignored",
          "traceback": [
            "\u001b[0;31m---------------------------------------------------------------------------\u001b[0m",
            "\u001b[0;31mKeyboardInterrupt\u001b[0m                         Traceback (most recent call last)",
            "\u001b[0;32m<ipython-input-100-0253ac010bb6>\u001b[0m in \u001b[0;36m<module>\u001b[0;34m()\u001b[0m\n\u001b[1;32m     98\u001b[0m \u001b[0;31m#Archivo Rockyou completo\u001b[0m\u001b[0;34m\u001b[0m\u001b[0;34m\u001b[0m\u001b[0;34m\u001b[0m\u001b[0m\n\u001b[1;32m     99\u001b[0m \u001b[0minicio\u001b[0m \u001b[0;34m=\u001b[0m \u001b[0mtime\u001b[0m\u001b[0;34m.\u001b[0m\u001b[0mtime\u001b[0m\u001b[0;34m(\u001b[0m\u001b[0;34m)\u001b[0m\u001b[0;34m\u001b[0m\u001b[0;34m\u001b[0m\u001b[0m\n\u001b[0;32m--> 100\u001b[0;31m \u001b[0mhash_shu\u001b[0m\u001b[0;34m(\u001b[0m\u001b[0;34m\"/content/rockyou.txt\"\u001b[0m\u001b[0;34m,\u001b[0m \u001b[0;36m1\u001b[0m\u001b[0;34m,\u001b[0m \u001b[0;36m0\u001b[0m\u001b[0;34m)\u001b[0m\u001b[0;34m\u001b[0m\u001b[0;34m\u001b[0m\u001b[0m\n\u001b[0m\u001b[1;32m    101\u001b[0m \u001b[0mfin\u001b[0m \u001b[0;34m=\u001b[0m \u001b[0mtime\u001b[0m\u001b[0;34m.\u001b[0m\u001b[0mtime\u001b[0m\u001b[0;34m(\u001b[0m\u001b[0;34m)\u001b[0m\u001b[0;34m\u001b[0m\u001b[0;34m\u001b[0m\u001b[0m\n\u001b[1;32m    102\u001b[0m \u001b[0mprint\u001b[0m\u001b[0;34m(\u001b[0m\u001b[0;34m\"Tiempo de ejecucion en segundos: \"\u001b[0m\u001b[0;34m,\u001b[0m \u001b[0mfin\u001b[0m\u001b[0;34m-\u001b[0m\u001b[0minicio\u001b[0m\u001b[0;34m)\u001b[0m\u001b[0;34m\u001b[0m\u001b[0;34m\u001b[0m\u001b[0m\n",
            "\u001b[0;32m<ipython-input-100-0253ac010bb6>\u001b[0m in \u001b[0;36mhash_shu\u001b[0;34m(o, f_a, f_l)\u001b[0m\n\u001b[1;32m     60\u001b[0m     \u001b[0march_o\u001b[0m\u001b[0;34m.\u001b[0m\u001b[0mclose\u001b[0m\u001b[0;34m(\u001b[0m\u001b[0;34m)\u001b[0m\u001b[0;34m\u001b[0m\u001b[0;34m\u001b[0m\u001b[0m\n\u001b[1;32m     61\u001b[0m     \u001b[0mprint\u001b[0m\u001b[0;34m(\u001b[0m\u001b[0;34m\"La entropia es de: \"\u001b[0m\u001b[0;34m,\u001b[0m \u001b[0mlen\u001b[0m\u001b[0;34m(\u001b[0m\u001b[0minput\u001b[0m\u001b[0;34m)\u001b[0m \u001b[0;34m*\u001b[0m \u001b[0;36m7\u001b[0m\u001b[0;34m)\u001b[0m \u001b[0;31m#Asumiendo que la base es ascii\u001b[0m\u001b[0;34m\u001b[0m\u001b[0;34m\u001b[0m\u001b[0m\n\u001b[0;32m---> 62\u001b[0;31m     \u001b[0mprint\u001b[0m\u001b[0;34m(\u001b[0m\u001b[0;34m\"HS-> \"\u001b[0m\u001b[0;34m,\u001b[0m \u001b[0mhash_real\u001b[0m\u001b[0;34m(\u001b[0m\u001b[0minput\u001b[0m\u001b[0;34m)\u001b[0m\u001b[0;34m)\u001b[0m\u001b[0;34m\u001b[0m\u001b[0;34m\u001b[0m\u001b[0m\n\u001b[0m\u001b[1;32m     63\u001b[0m \u001b[0;34m\u001b[0m\u001b[0m\n\u001b[1;32m     64\u001b[0m   \u001b[0;32melif\u001b[0m \u001b[0mf_a\u001b[0m \u001b[0;34m==\u001b[0m \u001b[0;36m0\u001b[0m \u001b[0;32mand\u001b[0m \u001b[0mf_l\u001b[0m \u001b[0;34m==\u001b[0m \u001b[0;36m0\u001b[0m\u001b[0;34m:\u001b[0m\u001b[0;34m\u001b[0m\u001b[0;34m\u001b[0m\u001b[0m\n",
            "\u001b[0;32m<ipython-input-100-0253ac010bb6>\u001b[0m in \u001b[0;36mhash_real\u001b[0;34m(o)\u001b[0m\n\u001b[1;32m     24\u001b[0m     \u001b[0mstep_1\u001b[0m \u001b[0;34m+=\u001b[0m \u001b[0mint\u001b[0m\u001b[0;34m(\u001b[0m\u001b[0mstr\u001b[0m\u001b[0;34m(\u001b[0m\u001b[0mn\u001b[0m\u001b[0;34m)\u001b[0m\u001b[0;34m[\u001b[0m\u001b[0;36m0\u001b[0m\u001b[0;34m:\u001b[0m\u001b[0;36m16\u001b[0m\u001b[0;34m]\u001b[0m\u001b[0;34m)\u001b[0m\u001b[0;34m\u001b[0m\u001b[0;34m\u001b[0m\u001b[0m\n\u001b[1;32m     25\u001b[0m     \u001b[0mstep_1\u001b[0m \u001b[0;34m**=\u001b[0m \u001b[0;36m2\u001b[0m\u001b[0;34m\u001b[0m\u001b[0;34m\u001b[0m\u001b[0m\n\u001b[0;32m---> 26\u001b[0;31m     \u001b[0;32mif\u001b[0m \u001b[0mlen\u001b[0m\u001b[0;34m(\u001b[0m\u001b[0mstr\u001b[0m\u001b[0;34m(\u001b[0m\u001b[0mstep_1\u001b[0m\u001b[0;34m)\u001b[0m\u001b[0;34m)\u001b[0m\u001b[0;34m<\u001b[0m\u001b[0;36m64\u001b[0m\u001b[0;34m:\u001b[0m\u001b[0;34m\u001b[0m\u001b[0;34m\u001b[0m\u001b[0m\n\u001b[0m\u001b[1;32m     27\u001b[0m       \u001b[0mstep_1\u001b[0m \u001b[0;34m**=\u001b[0m \u001b[0;36m8\u001b[0m\u001b[0;34m\u001b[0m\u001b[0;34m\u001b[0m\u001b[0m\n\u001b[1;32m     28\u001b[0m   \u001b[0mstep_2\u001b[0m \u001b[0;34m=\u001b[0m \u001b[0mstr\u001b[0m\u001b[0;34m(\u001b[0m\u001b[0mstep_1\u001b[0m\u001b[0;34m)\u001b[0m\u001b[0;34m\u001b[0m\u001b[0;34m\u001b[0m\u001b[0m\n",
            "\u001b[0;31mKeyboardInterrupt\u001b[0m: "
          ]
        }
      ],
      "source": [
        "import time\n",
        "\n",
        "def to_char(n):\n",
        "  n %=122\n",
        "  if n<48:\n",
        "    n += 48\n",
        "  return chr(n)\n",
        "\n",
        "def hash_real(o):\n",
        "  length = len(o)%16\n",
        "  o = o + o[0]*(16-length)\n",
        "  step_1 = 0\n",
        "  for i in range(length):\n",
        "    part = o[(i*16):((i+1)*16)]\n",
        "    n = 0\n",
        "    for j in range(len(part)):\n",
        "      ascii_v = ord(part[j])\n",
        "      if ascii_v%10 == 0:\n",
        "        ascii_v = 16\n",
        "      n += ascii_v\n",
        "      n *= ascii_v\n",
        "      if(n>10000000000000000):\n",
        "        break\n",
        "    step_1 += int(str(n)[0:16])\n",
        "    step_1 **= 2\n",
        "    if len(str(step_1))<64:\n",
        "      step_1 **= 8\n",
        "  step_2 = str(step_1)\n",
        "  hash = \"\"\n",
        "  for i in range(64):\n",
        "    try:\n",
        "      hash += to_char(int(step_2[(i*3):((i+1)*3)]))\n",
        "    except:\n",
        "      continue\n",
        "  return hash\n",
        "\n",
        "def hash_shu(o, f_a, f_l): #objetivo, flag archivo, flag linea a linea\n",
        "\n",
        "  if f_a == 1 and f_l == 1:\n",
        "    arch = open(\"out.txt\", \"w\")\n",
        "    arch_o = open(o, \"r\")\n",
        "    cont = 0\n",
        "    for linea in arch_o:\n",
        "      linea = linea.strip()\n",
        "      arch.write(hash_real(linea)+\"\\n\")\n",
        "      cont += 1\n",
        "      if cont == 50:\n",
        "        break #50 primeras entradas\n",
        "    arch.close()\n",
        "    arch_o.close()\n",
        "\n",
        "  elif f_a == 1 and f_l == 0:\n",
        "    arch_o = open(o, \"r\")\n",
        "    input = ''\n",
        "    try:\n",
        "      for linea in arch_o:\n",
        "        input += linea.strip()\n",
        "    except:\n",
        "      None\n",
        "    arch_o.close()\n",
        "    print(\"La entropia es de: \", len(input) * 7) #Asumiendo que la base es ascii\n",
        "    print(\"HS-> \", hash_real(input))\n",
        "\n",
        "  elif f_a == 0 and f_l == 0:\n",
        "    print(\"La entropia es de: \", len(o) * 7)\n",
        "    print(\"HS-> \", hash_real(o))\n",
        "\n",
        "  else:\n",
        "    print(\"F\")\n",
        "\n",
        "#----------PRUEBAS----------#\n",
        "#Strings\n",
        "inicio = time.time()\n",
        "chain = 'j68768767889ur89etn49834fmud984u9g8nufmd8935mguf896uv89cnm593854f68760y'\n",
        "chain2 = 'dd'\n",
        "chain3 = 'd'\n",
        "chain4 = 'Hola'\n",
        "chain5 = 'hola'\n",
        "chain6 = 'hóla'\n",
        "hash_shu(chain, 0, 0)\n",
        "hash_shu(chain2, 0, 0)\n",
        "hash_shu(chain3, 0, 0)\n",
        "hash_shu(chain4, 0, 0)\n",
        "hash_shu(chain5, 0, 0)\n",
        "hash_shu(chain6, 0, 0)\n",
        "fin = time.time()\n",
        "print(\"Tiempo de ejecucion en segundos: \", fin-inicio)\n",
        "print(\"\")\n",
        "\n",
        "#Primero 50 de archivo rockyou linea por linea\n",
        "inicio = time.time()\n",
        "hash_shu(\"/content/rockyou.txt\", 1, 1) #Se subió el archivo manualmente\n",
        "fin = time.time()\n",
        "print(\"Se generó un archivo output.txt con las contraseñas hasheadas\")\n",
        "print(\"Tiempo de ejecucion en segundos: \", fin-inicio)\n",
        "print(\"\")\n",
        "\n",
        "#Archivo Rockyou completo\n",
        "inicio = time.time()\n",
        "hash_shu(\"/content/rockyou.txt\", 1, 0)\n",
        "fin = time.time()\n",
        "print(\"Tiempo de ejecucion en segundos: \", fin-inicio)\n",
        "\n",
        "\n"
      ]
    }
  ]
}