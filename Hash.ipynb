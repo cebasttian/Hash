{
  "nbformat": 4,
  "nbformat_minor": 0,
  "metadata": {
    "colab": {
      "name": "Hash.ipynb",
      "provenance": [],
      "collapsed_sections": [],
      "authorship_tag": "ABX9TyPje4aRwfytO0spBcjZX/9Y",
      "include_colab_link": true
    },
    "kernelspec": {
      "name": "python3",
      "display_name": "Python 3"
    },
    "language_info": {
      "name": "python"
    }
  },
  "cells": [
    {
      "cell_type": "markdown",
      "metadata": {
        "id": "view-in-github",
        "colab_type": "text"
      },
      "source": [
        "<a href=\"https://colab.research.google.com/github/cebasttian/Hash/blob/main/Hash.ipynb\" target=\"_parent\"><img src=\"https://colab.research.google.com/assets/colab-badge.svg\" alt=\"Open In Colab\"/></a>"
      ]
    },
    {
      "cell_type": "code",
      "source": [
        "!pip3 install smaz-py3"
      ],
      "metadata": {
        "colab": {
          "base_uri": "https://localhost:8080/"
        },
        "id": "1FpNOnjCQJ_Y",
        "outputId": "505913e2-c88c-4acf-f1fa-58cbd0b78574"
      },
      "execution_count": 1,
      "outputs": [
        {
          "output_type": "stream",
          "name": "stdout",
          "text": [
            "Looking in indexes: https://pypi.org/simple, https://us-python.pkg.dev/colab-wheels/public/simple/\n",
            "Collecting smaz-py3\n",
            "  Downloading smaz_py3-1.1.1-cp37-cp37m-manylinux_2_17_x86_64.manylinux2014_x86_64.whl (22 kB)\n",
            "Installing collected packages: smaz-py3\n",
            "Successfully installed smaz-py3-1.1.1\n"
          ]
        }
      ]
    },
    {
      "cell_type": "code",
      "execution_count": 2,
      "metadata": {
        "colab": {
          "base_uri": "https://localhost:8080/"
        },
        "id": "Moi4ybORP_qS",
        "outputId": "251a5af2-f5cc-413f-9786-fa1038b5e268"
      },
      "outputs": [
        {
          "output_type": "stream",
          "name": "stdout",
          "text": [
            "31\n",
            "24\n",
            "b'l\\x00\\xfeq&\\x08\\x1b`-*\\x08Kl\\x00\\xfeq&\\x08\\x1b`-*\\x08\\x0c'\n"
          ]
        }
      ],
      "source": [
        "import smaz\n",
        "a = \"me quiero morir me quiero morir\"\n",
        "b = smaz.compress(a)\n",
        "print(len(a))\n",
        "print(len(b))\n",
        "smaz.decompress(b)\n",
        "print(b)\n"
      ]
    }
  ]
}