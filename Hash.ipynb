{
  "nbformat": 4,
  "nbformat_minor": 0,
  "metadata": {
    "colab": {
      "name": "Hash.ipynb",
      "provenance": [],
      "collapsed_sections": [],
      "authorship_tag": "ABX9TyMusj7l9MN8u7AfVb1fAU94",
      "include_colab_link": true
    },
    "kernelspec": {
      "name": "python3",
      "display_name": "Python 3"
    },
    "language_info": {
      "name": "python"
    }
  },
  "cells": [
    {
      "cell_type": "markdown",
      "metadata": {
        "id": "view-in-github",
        "colab_type": "text"
      },
      "source": [
        "<a href=\"https://colab.research.google.com/github/cebasttian/Hash/blob/main/Hash.ipynb\" target=\"_parent\"><img src=\"https://colab.research.google.com/assets/colab-badge.svg\" alt=\"Open In Colab\"/></a>"
      ]
    },
    {
      "cell_type": "code",
      "source": [
        "!pip3 install pySmaz"
      ],
      "metadata": {
        "colab": {
          "base_uri": "https://localhost:8080/"
        },
        "id": "1FpNOnjCQJ_Y",
        "outputId": "4d020877-6fd4-4818-d91f-b8ac5699ee05"
      },
      "execution_count": 8,
      "outputs": [
        {
          "output_type": "stream",
          "name": "stdout",
          "text": [
            "Looking in indexes: https://pypi.org/simple, https://us-python.pkg.dev/colab-wheels/public/simple/\n",
            "Collecting pySmaz\n",
            "  Downloading pySmaz-1.0.0.tar.gz (25 kB)\n",
            "Building wheels for collected packages: pySmaz\n",
            "  Building wheel for pySmaz (setup.py) ... \u001b[?25l\u001b[?25hdone\n",
            "  Created wheel for pySmaz: filename=pySmaz-1.0.0-py3-none-any.whl size=24234 sha256=bdfd9002725c2e501a27d7e36b54cbd1cea19b5f57982360e50e3912d16c3252\n",
            "  Stored in directory: /root/.cache/pip/wheels/cd/c4/14/341d59f9d3788a0ed74a178eecb8fd80c9c45c472cb17f2db6\n",
            "Successfully built pySmaz\n",
            "Installing collected packages: pySmaz\n",
            "Successfully installed pySmaz-1.0.0\n"
          ]
        }
      ]
    },
    {
      "cell_type": "code",
      "execution_count": 10,
      "metadata": {
        "colab": {
          "base_uri": "https://localhost:8080/"
        },
        "id": "Moi4ybORP_qS",
        "outputId": "ccee4381-e0a8-4f1c-b42f-9289c22ec409"
      },
      "outputs": [
        {
          "output_type": "stream",
          "name": "stdout",
          "text": [
            "b'\\xfeH\\x06\\x89'\n",
            "b'l\\x00\\xfeq&\\x08\\x1b`-*\\x08\\x0c'\n",
            ":(\n"
          ]
        }
      ],
      "source": [
        "from smaz import compress, decompress\n",
        "\n",
        "\n",
        "print(compress(\"Hola\"))\n",
        "print(compress(\"me quiero morir\"))\n",
        "print(decompress(compress(\":(\")))\n"
      ]
    }
  ]
}