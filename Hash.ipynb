{
  "nbformat": 4,
  "nbformat_minor": 0,
  "metadata": {
    "colab": {
      "name": "Hash.ipynb",
      "provenance": [],
      "collapsed_sections": [],
      "authorship_tag": "ABX9TyOoCIJKzGnN8nDb+95c/WgJ",
      "include_colab_link": true
    },
    "kernelspec": {
      "name": "python3",
      "display_name": "Python 3"
    },
    "language_info": {
      "name": "python"
    }
  },
  "cells": [
    {
      "cell_type": "markdown",
      "metadata": {
        "id": "view-in-github",
        "colab_type": "text"
      },
      "source": [
        "<a href=\"https://colab.research.google.com/github/cebasttian/Hash/blob/main/Hash.ipynb\" target=\"_parent\"><img src=\"https://colab.research.google.com/assets/colab-badge.svg\" alt=\"Open In Colab\"/></a>"
      ]
    },
    {
      "cell_type": "markdown",
      "source": [
        "# Codigo"
      ],
      "metadata": {
        "id": "Fd2DcKXoh9tT"
      }
    },
    {
      "cell_type": "code",
      "execution_count": 102,
      "metadata": {
        "colab": {
          "base_uri": "https://localhost:8080/"
        },
        "id": "Moi4ybORP_qS",
        "outputId": "27b85679-cc71-4f48-b377-2f14efba62b3"
      },
      "outputs": [
        {
          "output_type": "stream",
          "name": "stdout",
          "text": [
            "La entropia es de:  497\n",
            "HS->  0G?o176OkXFCSP2Kx\\yNTT<hq4pN8avOE^TH7<UP=NJ42]6=:Z2610C`1NW<<aZw\n",
            "La entropia es de:  14\n",
            "HS->  b4E??VmI0=3MVi`2H[:eJEFrMU5\\Rr44E;:BX]]El]gKC3qefS_tFV=G3]N3]tkH\n",
            "La entropia es de:  7\n",
            "HS->  J0O=8=1roNvF@q00]fM0@\\9J]V?H8\\4@j7DY<0R9xD\\w:4Nhc86ECDEXslqgX3I_\n",
            "La entropia es de:  28\n",
            "HS->  eWDH:LCj^wQ5<ZhSFJHoS@^`\\_1rXrmWGByAI[SQXg:L:=gmh86OG[TMf>NE7D[;\n",
            "La entropia es de:  28\n",
            "HS->  r^70?MpUSNKfNS>k]Fd0RD^aUfbEYA?_4?C>CYhS;P6p2q>KtnQ;c4pJGOXL61dV\n",
            "La entropia es de:  28\n",
            "HS->  xeUHZSLGewDRSJ[r_Z>40r6NmF`@^F7STCKYYX\\W1L3rhQCv4ADUOfxV^JUMMp?U\n",
            "Tiempo de ejecucion en segundos:  0.015905380249023438\n",
            "\n",
            "Se generó un archivo output.txt con las contraseñas hasheadas\n",
            "Tiempo de ejecucion en segundos:  1.8157131671905518\n",
            "\n",
            "La entropia es de:  31336354\n",
            "HS->  _J2`?aQVdcPFT:0HY[LWC5p=4?O>1Oi>=GHC8FK4?iEVNeSi=EWFLM0dKrN\\Y::H\n",
            "Tiempo de ejecucion en segundos:  134.78270959854126\n"
          ]
        }
      ],
      "source": [
        "import time\n",
        "\n",
        "def to_char(n):#Transforma un numero a un caracter dentro de un rango de ascii\n",
        "  n %=122\n",
        "  if n<48:\n",
        "    n += 48\n",
        "  return chr(n)\n",
        "\n",
        "def hash_real(o):\n",
        "  length = len(o)%16    #Ve cuantos caracteres faltan para formar bloques de 16\n",
        "  o = o + o[0]*(16-length)      #Completa el ultimo bloque\n",
        "  step_1 = 0                    #Parte 1\n",
        "  for i in range(length):\n",
        "    part = o[(i*16):((i+1)*16)] #Va trabajando por bloques de 16\n",
        "    n = 0\n",
        "    for j in range(len(part)):  #recorre el bloque\n",
        "      ascii_v = ord(part[j])\n",
        "      if ascii_v%10 == 0:\n",
        "        ascii_v = 16            #Realiza operaciones matematicas\n",
        "      n += ascii_v\n",
        "      n *= ascii_v\n",
        "      if(n>10000000000000000):  #Evita que el numero se dispare\n",
        "        break\n",
        "    step_1 += int(str(n)[0:16]) #Elige las primeras 16 cifras significativas\n",
        "    step_1 **= 2                #Aumenta el volumen del numero\n",
        "    if len(str(step_1))<64:\n",
        "      step_1 **= 8\n",
        "  step_2 = str(step_1)          #Parte 2\n",
        "  hash = \"\"\n",
        "  for i in range(64):           #itera 64 veces sobre el string numerico\n",
        "    try:\n",
        "      hash += to_char(int(step_2[(i*3):((i+1)*3)])) #arma numeros de 3 cifras \n",
        "    except:                     #y los transforma a caracter\n",
        "      continue\n",
        "  return hash                   #Retorna un valor hash de 64 caracteres\n",
        "\n",
        "def hash_shu(o, f_a, f_l): #objetivo, flag archivo, flag linea a linea\n",
        "                          #objetivo es el string o el numbre del archivo\n",
        "                          #flag archivo indica si lo que recibira es un archivo o no\n",
        "                          #flag linea indica que trabaja con el archivo completo o no\n",
        "  if f_a == 1 and f_l == 1: #archivo linea a linea\n",
        "    arch = open(\"out.txt\", \"w\")\n",
        "    arch_o = open(o, \"r\")\n",
        "    cont = 0\n",
        "    for linea in arch_o:\n",
        "      linea = linea.strip()\n",
        "      arch.write(hash_real(linea)+\"\\n\")\n",
        "      cont += 1\n",
        "      if cont == 50:\n",
        "        break #50 primeras entradas\n",
        "    arch.close()    #genera un archivo de salida\n",
        "    arch_o.close()  \n",
        "\n",
        "  elif f_a == 1 and f_l == 0: #archivo completo\n",
        "    arch_o = open(o, \"r\")\n",
        "    input = ''\n",
        "    try:\n",
        "      for linea in arch_o:\n",
        "        input += linea.strip()\n",
        "    except:\n",
        "      None\n",
        "    arch_o.close()\n",
        "    print(\"La entropia es de: \", len(input) * 7) #Asumiendo que la base es ascii\n",
        "    print(\"HS-> \", hash_real(input))\n",
        "\n",
        "  elif f_a == 0 and f_l == 0: #String\n",
        "    print(\"La entropia es de: \", len(o) * 7)\n",
        "    print(\"HS-> \", hash_real(o))\n",
        "\n",
        "  else:\n",
        "    print(\"F\")\n",
        "\n",
        "#----------PRUEBAS----------#\n",
        "#Strings\n",
        "inicio = time.time()\n",
        "chain = 'j68768767889ur89etn49834fmud984u9g8nufmd8935mguf896uv89cnm593854f68760y'\n",
        "chain2 = 'dd'\n",
        "chain3 = 'd'\n",
        "chain4 = 'Hola'\n",
        "chain5 = 'hola'\n",
        "chain6 = 'hóla'\n",
        "hash_shu(chain, 0, 0)\n",
        "hash_shu(chain2, 0, 0)\n",
        "hash_shu(chain3, 0, 0)\n",
        "hash_shu(chain4, 0, 0)\n",
        "hash_shu(chain5, 0, 0)\n",
        "hash_shu(chain6, 0, 0)\n",
        "fin = time.time()\n",
        "print(\"Tiempo de ejecucion en segundos: \", fin-inicio)\n",
        "print(\"\")\n",
        "\n",
        "#Primero 50 de archivo rockyou linea por linea\n",
        "inicio = time.time()\n",
        "hash_shu(\"/content/rockyou.txt\", 1, 1) #Se subió el archivo manualmente\n",
        "fin = time.time()\n",
        "print(\"Se generó un archivo output.txt con las contraseñas hasheadas\")\n",
        "print(\"Tiempo de ejecucion en segundos: \", fin-inicio)\n",
        "print(\"\")\n",
        "\n",
        "#Archivo Rockyou completo\n",
        "inicio = time.time()\n",
        "hash_shu(\"/content/rockyou.txt\", 1, 0)\n",
        "fin = time.time()\n",
        "print(\"Tiempo de ejecucion en segundos: \", fin-inicio)\n",
        "\n",
        "\n"
      ]
    }
  ]
}