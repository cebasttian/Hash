{
  "nbformat": 4,
  "nbformat_minor": 0,
  "metadata": {
    "colab": {
      "name": "Hash.ipynb",
      "provenance": [],
      "collapsed_sections": [],
      "authorship_tag": "ABX9TyML1GoVQMMgLxG6KzVUWBKt",
      "include_colab_link": true
    },
    "kernelspec": {
      "name": "python3",
      "display_name": "Python 3"
    },
    "language_info": {
      "name": "python"
    }
  },
  "cells": [
    {
      "cell_type": "markdown",
      "metadata": {
        "id": "view-in-github",
        "colab_type": "text"
      },
      "source": [
        "<a href=\"https://colab.research.google.com/github/cebasttian/Hash/blob/main/Hash.ipynb\" target=\"_parent\"><img src=\"https://colab.research.google.com/assets/colab-badge.svg\" alt=\"Open In Colab\"/></a>"
      ]
    },
    {
      "cell_type": "markdown",
      "source": [
        "######Notas"
      ],
      "metadata": {
        "id": "LQgXhtRrh1xM"
      }
    },
    {
      "cell_type": "code",
      "source": [
        "\"\"\"\n",
        "notas\n",
        "\n",
        "print(zlib.decompress(b).decode())\n",
        "\n",
        "#compresion test\n",
        "bcr = 0\n",
        "i_critical = 0\n",
        "for i in range(1,100):\n",
        "  a = \"test string\"*i\n",
        "  b = zlib.compress(a.encode())\n",
        "  if (len(a)> len(b)):\n",
        "    bcr = len(b)/len(a)\n",
        "    i_critical = i\n",
        "    break\n",
        "print(bcr, i_critical)\n",
        "\n",
        "0 15\n",
        "15 30\n",
        "30 45\n",
        "\n",
        "\n",
        "text=b\"jskldksl   54b357v 9dsb87 4vif78739vc8 f8 935b87hfghtfjmfjgnfgn89 9\"*10\n",
        "\n",
        "# Checking size of text\n",
        "text_size=sys.getsizeof(text)\n",
        "print(\"\\nsize of original text\",text_size)\n",
        "\n",
        "# Compressing text\n",
        "compressed = zlib.compress(text)\n",
        "\n",
        "# Checking size of text after compression\n",
        "csize=sys.getsizeof(compressed)\n",
        "print(\"\\nsize of compressed text\",csize)\n",
        "\n",
        "# Decompressing text\n",
        "decompressed=zlib.decompress(compressed)\n",
        "\n",
        "#Checking size of text after decompression\n",
        "dsize=sys.getsizeof(decompressed)\n",
        "print(\"\\nsize of decompressed text\",dsize)\n",
        "\n",
        "print(\"\\nDifference of size= \", text_size-csize)\n",
        "\n",
        "#compresion test\n",
        "bcr = 0\n",
        "i_critical = 0\n",
        "for i in range(1,100):\n",
        "  a = \"test string\"*i\n",
        "  b = zlib.compress(a.encode())\n",
        "  print(len(a), len(b))\n",
        "  if (len(a)> len(b)):\n",
        "    bcr = len(b)/len(a)\n",
        "    i_critical = i\n",
        "    break\n",
        "print(bcr, i_critical)\n",
        "\"\"\""
      ],
      "metadata": {
        "colab": {
          "base_uri": "https://localhost:8080/",
          "height": 109
        },
        "id": "VQl2_cjwZKBt",
        "outputId": "cc970661-a59a-4dee-b7fb-a3212e4dd147"
      },
      "execution_count": null,
      "outputs": [
        {
          "output_type": "execute_result",
          "data": {
            "text/plain": [
              "'\\nnotas\\n\\nprint(zlib.decompress(b).decode())\\n\\n#compresion test\\nbcr = 0\\ni_critical = 0\\nfor i in range(1,100):\\n  a = \"test string\"*i\\n  b = zlib.compress(a.encode())\\n  if (len(a)> len(b)):\\n    bcr = len(b)/len(a)\\n    i_critical = i\\n    break\\nprint(bcr, i_critical)\\n\\n0 15\\n15 30\\n30 45\\n\\n\\ntext=b\"jskldksl   54b357v 9dsb87 4vif78739vc8 f8 935b87hfghtfjmfjgnfgn89 9\"*10\\n\\n# Checking size of text\\ntext_size=sys.getsizeof(text)\\nprint(\"\\nsize of original text\",text_size)\\n\\n# Compressing text\\ncompressed = zlib.compress(text)\\n\\n# Checking size of text after compression\\ncsize=sys.getsizeof(compressed)\\nprint(\"\\nsize of compressed text\",csize)\\n\\n# Decompressing text\\ndecompressed=zlib.decompress(compressed)\\n\\n#Checking size of text after decompression\\ndsize=sys.getsizeof(decompressed)\\nprint(\"\\nsize of decompressed text\",dsize)\\n\\nprint(\"\\nDifference of size= \", text_size-csize)\\n\\n#compresion test\\nbcr = 0\\ni_critical = 0\\nfor i in range(1,100):\\n  a = \"test string\"*i\\n  b = zlib.compress(a.encode())\\n  print(len(a), len(b))\\n  if (len(a)> len(b)):\\n    bcr = len(b)/len(a)\\n    i_critical = i\\n    break\\nprint(bcr, i_critical)\\n'"
            ],
            "application/vnd.google.colaboratory.intrinsic+json": {
              "type": "string"
            }
          },
          "metadata": {},
          "execution_count": 64
        }
      ]
    },
    {
      "cell_type": "markdown",
      "source": [
        "#codigo"
      ],
      "metadata": {
        "id": "Fd2DcKXoh9tT"
      }
    },
    {
      "cell_type": "code",
      "source": [
        "!pip3 install bitstring"
      ],
      "metadata": {
        "colab": {
          "base_uri": "https://localhost:8080/"
        },
        "id": "FcZ-7-3UqAso",
        "outputId": "5322f6e0-f4e2-49b5-8eaf-76350eda9b19"
      },
      "execution_count": null,
      "outputs": [
        {
          "output_type": "stream",
          "name": "stdout",
          "text": [
            "Looking in indexes: https://pypi.org/simple, https://us-python.pkg.dev/colab-wheels/public/simple/\n",
            "Collecting bitstring\n",
            "  Downloading bitstring-3.1.9-py3-none-any.whl (38 kB)\n",
            "Installing collected packages: bitstring\n",
            "Successfully installed bitstring-3.1.9\n"
          ]
        }
      ]
    },
    {
      "cell_type": "code",
      "execution_count": 26,
      "metadata": {
        "colab": {
          "base_uri": "https://localhost:8080/"
        },
        "id": "Moi4ybORP_qS",
        "outputId": "0664dca3-6eb6-4d41-ef37-b3dc0009308d"
      },
      "outputs": [
        {
          "output_type": "stream",
          "name": "stdout",
          "text": [
            "[]\n",
            "[1101010, 1110011, 1101011, 1101100, 1100100, 1101011, 1110011, 1101100, 100000, 100000, 100000, 110101, 110100]\n",
            "[1100010, 110011, 110101, 110111, 1110110, 100000, 111001, 1100100, 1110011, 1100010, 111000, 110111, 100000]\n",
            "[110100, 1110110, 1101001, 1100110, 110111, 111000, 1000010, 100000, 1011001, 111001, 110011, 110101, 1100010]\n",
            "[111000, 110111, 111001, 111000, 111001, 100000, 111001, 1101010, 1110011, 1101011, 1101100, 1100100, 1101011]\n",
            "[1110011, 1101100, 100000, 100000, 100000, 110101, 110100, 1100010, 110011, 110101, 110111, 1110110, 100000]\n",
            "[111001, 1100100, 1110011, 1100010, 111000, 110111, 100000, 110100, 1110110, 1101001, 1100110, 110111, 111000]\n",
            "[1000010, 100000, 1011001, 111001, 110011, 110101, 1100010, 111000, 110111, 111001, 111000, 111001, 100000]\n",
            "[111001, 1101010, 1110011, 1101011, 1101100, 1100100, 1101011, 1110011, 1101100, 100000, 100000, 100000, 110101]\n",
            "[110100, 1100010, 110011, 110101, 110111, 1110110, 100000, 111001, 1100100, 1110011, 1100010, 111000, 110111]\n",
            "[100000, 110100, 1110110, 1101001, 1100110, 110111, 111000, 1000010, 100000, 1011001, 111001, 110011, 110101]\n",
            "[1100010, 111000, 110111, 111001, 111000, 111001, 100000, 111001, 1101010, 1110011, 1101011, 1101100, 1100100]\n",
            "[1101011, 1110011, 1101100, 100000, 100000, 100000, 110101, 110100, 1100010, 110011, 110101, 110111, 1110110]\n",
            "[100000, 111001, 1100100, 1110011, 1100010, 111000, 110111, 100000, 110100, 1110110, 1101001, 1100110, 110111]\n",
            "[111000, 1000010, 100000, 1011001, 111001, 110011, 110101, 1100010, 111000, 110111, 111001, 111000, 111001]\n",
            "[100000, 111001, 1101010, 1110011, 1101011, 1101100, 1100100, 1101011, 1110011, 1101100, 100000, 100000, 100000]\n",
            "[110101, 110100, 1100010, 110011, 110101, 110111, 1110110, 100000, 111001, 1100100, 1110011, 1100010, 111000]\n",
            "[110111, 100000, 110100, 1110110, 1101001, 1100110, 110111, 111000, 1000010, 100000, 1011001, 111001, 110011]\n",
            "[110101, 1100010, 111000, 110111, 111001, 111000, 111001, 100000, 111001, 1101010, 1110011, 1101011, 1101100]\n",
            "[1100100, 1101011, 1110011, 1101100, 100000, 100000, 100000, 110101, 110100, 1100010, 110011, 110101, 110111]\n",
            "[1110110, 100000, 111001, 1100100, 1110011, 1100010, 111000, 110111, 100000, 110100, 1110110, 1101001, 1100110]\n",
            "[110111, 111000, 1000010, 100000, 1011001, 111001, 110011, 110101, 1100010, 111000, 110111, 111001, 111000]\n",
            "[111001, 100000, 111001, 1101010, 1110011, 1101011, 1101100, 1100100, 1101011, 1110011, 1101100, 100000, 100000]\n",
            "[100000, 110101, 110100, 1100010, 110011, 110101, 110111, 1110110, 100000, 111001, 1100100, 1110011, 1100010]\n",
            "[111000, 110111, 100000, 110100, 1110110, 1101001, 1100110, 110111, 111000, 1000010, 100000, 1011001, 111001]\n",
            "[110011, 110101, 1100010, 111000, 110111, 111001, 111000, 111001, 100000, 111001, 1101010, 1110011, 1101011]\n",
            "[1101100, 1100100, 1101011, 1110011, 1101100, 100000, 100000, 100000, 110101, 110100, 1100010, 110011, 110101]\n",
            "[110111, 1110110, 100000, 111001, 1100100, 1110011, 1100010, 111000, 110111, 100000, 110100, 1110110, 1101001]\n",
            "[1100110, 110111, 111000, 1000010, 100000, 1011001, 111001, 110011, 110101, 1100010, 111000, 110111, 111001]\n",
            "[111000, 111001, 100000, 111001, 1101010, 1110011, 1101011, 1101100, 1100100, 1101011, 1110011, 1101100, 100000]\n",
            "[100000, 100000, 110101, 110100, 1100010, 110011, 110101, 110111, 1110110, 100000, 111001, 1100100, 1110011]\n",
            "[1100010, 111000, 110111, 100000, 110100, 1110110, 1101001, 1100110, 110111, 111000, 1000010, 100000, 1011001]\n",
            "[111001, 110011, 110101, 1100010, 111000, 110111, 111001, 111000, 111001, 100000, 111001, 1101010, 1110011]\n",
            "[1101011, 1101100, 1100100, 1101011, 1110011, 1101100, 100000, 100000, 100000, 110101, 110100, 1100010, 110011]\n",
            "[110101, 110111, 1110110, 100000, 111001, 1100100, 1110011, 1100010, 111000, 110111, 100000, 110100, 1110110]\n",
            "[1101001, 1100110, 110111, 111000, 1000010, 100000, 1011001, 111001, 110011, 110101, 1100010, 111000, 110111]\n",
            "[111001, 111000, 111001, 100000, 111001, 1111011, 1111011, 1111011, 1111011, 1111011, 1111011, 1111011, 1111011]\n",
            "\n"
          ]
        }
      ],
      "source": [
        "import zlib, sys\n",
        "import math\n",
        "\n",
        "def toBinary(a):\n",
        "  l,m=[],[]\n",
        "  for i in a:\n",
        "    l.append(ord(i))\n",
        "  for i in l:\n",
        "    m.append(int(bin(i)[2:]))\n",
        "  return m \n",
        "\n",
        "size_b = 13\n",
        "string = \"\"\"jskldksl   54b357v 9dsb87 4vif78B Y935b87989 9\"\"\"*10\n",
        "padding = size_b-len(string)%size_b\n",
        "if (padding) > 0:\n",
        "  string += \"\"\"{\"\"\"*padding\n",
        "text2=\"\"\n",
        "for i in range(0, (len(string)//size_b)+1):\n",
        "  text = string[(i-1)*size_b: i*size_b]\n",
        "  text = toBinary(text)\n",
        "  print(text)\n",
        "print(text2)\n",
        "\n"
      ]
    }
  ]
}